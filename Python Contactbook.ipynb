{
 "cells": [
  {
   "cell_type": "code",
   "execution_count": null,
   "id": "9629359f-c9af-4f71-9635-5c4cc7ae6491",
   "metadata": {},
   "outputs": [
    {
     "name": "stdout",
     "output_type": "stream",
     "text": [
      "\n",
      "1.add contact\n",
      "2.display contact\n",
      "3.search contact\n",
      "4.delete contact\n",
      "5.Exit\n"
     ]
    },
    {
     "name": "stdin",
     "output_type": "stream",
     "text": [
      "Enter choice: 1\n",
      "Enter name: yash\n",
      "Enter phone no: 67890765\n",
      "Enter email: yuhvhibbujnjbg\n"
     ]
    },
    {
     "name": "stdout",
     "output_type": "stream",
     "text": [
      "Contact added succesfully\n",
      "\n",
      "1.add contact\n",
      "2.display contact\n",
      "3.search contact\n",
      "4.delete contact\n",
      "5.Exit\n"
     ]
    },
    {
     "name": "stdin",
     "output_type": "stream",
     "text": [
      "Enter choice: 2\n"
     ]
    },
    {
     "name": "stdout",
     "output_type": "stream",
     "text": [
      "Name:yash,Phone:67890765,Email:yuhvhibbujnjbg\n",
      "\n",
      "1.add contact\n",
      "2.display contact\n",
      "3.search contact\n",
      "4.delete contact\n",
      "5.Exit\n"
     ]
    },
    {
     "name": "stdin",
     "output_type": "stream",
     "text": [
      "Enter choice: 3\n",
      "Enter name to search: yash\n"
     ]
    },
    {
     "name": "stdout",
     "output_type": "stream",
     "text": [
      "name:yash,Phone:67890765,Email:yuhvhibbujnjbg\n",
      "\n",
      "1.add contact\n",
      "2.display contact\n",
      "3.search contact\n",
      "4.delete contact\n",
      "5.Exit\n"
     ]
    },
    {
     "name": "stdin",
     "output_type": "stream",
     "text": [
      "Enter choice: 4\n",
      "Enter name to delete: hhb\n"
     ]
    },
    {
     "name": "stdout",
     "output_type": "stream",
     "text": [
      "Contact not found\n",
      "\n",
      "1.add contact\n",
      "2.display contact\n",
      "3.search contact\n",
      "4.delete contact\n",
      "5.Exit\n"
     ]
    },
    {
     "name": "stdin",
     "output_type": "stream",
     "text": [
      "Enter choice: 5.\n"
     ]
    },
    {
     "name": "stdout",
     "output_type": "stream",
     "text": [
      "invalid choice,try again\n",
      "\n",
      "1.add contact\n",
      "2.display contact\n",
      "3.search contact\n",
      "4.delete contact\n",
      "5.Exit\n"
     ]
    }
   ],
   "source": [
    "contacts=[]\n",
    "\n",
    "def add_contact():\n",
    "    name=input(\"Enter name:\")\n",
    "    phone=input('Enter phone no:')\n",
    "    email=input(\"Enter email:\")\n",
    "    contacts.append({'name':name,\"phone\":phone,'email':email})\n",
    "    print(\"Contact added succesfully\")\n",
    "def display_contacts():\n",
    "    if not contacts:\n",
    "        print(\"no contacts found\")\n",
    "        return\n",
    "    for contact in contacts:\n",
    "        print(f'Name:{contact['name']},Phone:{contact['phone']},Email:{contact['email']}')\n",
    "def search_contact():\n",
    "    name=input(\"Enter name to search:\")\n",
    "    for contact in contacts:\n",
    "        if contact['name'].lower()==name.lower():\n",
    "            print(f'name:{contact['name']},Phone:{contact['phone']},Email:{contact['email']}')\n",
    "            return\n",
    "    print(\"Contact not found\")\n",
    "def delete_contact():\n",
    "    name=input(\"Enter name to delete:\")\n",
    "    for contact in contacts:\n",
    "        if contact['name'].lower()==name.lower():\n",
    "            contacts.remove(contact)\n",
    "            print(\"Contact deleted\")\n",
    "            return\n",
    "    print(\"Contact not found\")\n",
    "def main():\n",
    "    while True:\n",
    "        print(\"\\n1.add contact\\n2.display contact\\n3.search contact\\n4.delete contact\\n5.Exit\")\n",
    "        choice=input(\"Enter choice:\")\n",
    "        if choice=='1':\n",
    "            add_contact()\n",
    "        elif choice=='2':\n",
    "            display_contacts()\n",
    "        elif choice=='3':\n",
    "            search_contact()\n",
    "        elif choice=='4':\n",
    "            delete_contact()\n",
    "        elif choice=='5':\n",
    "            print(\"goodbye\")\n",
    "            break\n",
    "        else:\n",
    "            print(\"invalid choice,try again\")\n",
    "main()"
   ]
  },
  {
   "cell_type": "code",
   "execution_count": null,
   "id": "5a245ed7-01b4-4ac2-b4f6-02aab18492da",
   "metadata": {},
   "outputs": [],
   "source": []
  },
  {
   "cell_type": "code",
   "execution_count": null,
   "id": "1484c107-8a09-4bbd-87b8-f76b8e7f9f05",
   "metadata": {},
   "outputs": [],
   "source": []
  }
 ],
 "metadata": {
  "kernelspec": {
   "display_name": "Python 3 (ipykernel)",
   "language": "python",
   "name": "python3"
  },
  "language_info": {
   "codemirror_mode": {
    "name": "ipython",
    "version": 3
   },
   "file_extension": ".py",
   "mimetype": "text/x-python",
   "name": "python",
   "nbconvert_exporter": "python",
   "pygments_lexer": "ipython3",
   "version": "3.12.7"
  }
 },
 "nbformat": 4,
 "nbformat_minor": 5
}
