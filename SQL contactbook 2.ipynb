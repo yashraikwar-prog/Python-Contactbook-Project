{
 "cells": [
  {
   "cell_type": "code",
   "execution_count": 5,
   "id": "6dfde3ea-2b87-4b26-b4fb-fb87855f1471",
   "metadata": {},
   "outputs": [
    {
     "name": "stdout",
     "output_type": "stream",
     "text": [
      "\n",
      "1.add contact\n",
      "2.display contact\n",
      "3.search contact\n",
      "4.delete\n",
      "5.exist\n"
     ]
    },
    {
     "name": "stdin",
     "output_type": "stream",
     "text": [
      "Enter choice:  1\n",
      "Enter name:  sanju wasekar\n",
      "Enter phone number: 7776038389\n",
      "Enter email :  sanjuwasekar@gmail.com\n"
     ]
    },
    {
     "name": "stdout",
     "output_type": "stream",
     "text": [
      "contact added successfully! \n",
      "\n",
      "1.add contact\n",
      "2.display contact\n",
      "3.search contact\n",
      "4.delete\n",
      "5.exist\n"
     ]
    },
    {
     "name": "stdin",
     "output_type": "stream",
     "text": [
      "Enter choice:  1\n",
      "Enter name:  anu wasekar\n",
      "Enter phone number: 8888574215\n",
      "Enter email :  ankita@gmail.com\n"
     ]
    },
    {
     "name": "stdout",
     "output_type": "stream",
     "text": [
      "contact added successfully! \n",
      "\n",
      "1.add contact\n",
      "2.display contact\n",
      "3.search contact\n",
      "4.delete\n",
      "5.exist\n"
     ]
    },
    {
     "name": "stdin",
     "output_type": "stream",
     "text": [
      "Enter choice:  5\n"
     ]
    },
    {
     "name": "stdout",
     "output_type": "stream",
     "text": [
      "Goodbye!\n"
     ]
    }
   ],
   "source": [
    "##### import mysql.connector\n",
    "#establish connection to mysql.\n",
    "def get_connection():\n",
    "    return mysql.connector.connect(\n",
    "        host='localhost',\n",
    "        database='contact_book',\n",
    "        user='root',\n",
    "        password='123456')\n",
    "#add contacts\n",
    "def add_contact():\n",
    "    name=input(\"Enter name: \")\n",
    "    phone=input(\"Enter phone number:\")\n",
    "    email=input(\"Enter email : \")\n",
    "    conn=get_connection()\n",
    "    cursor=conn.cursor()\n",
    "    cursor.execute(\"INSERT INTO contacts(name,phone,email) VALUES(%s,%s,%s)\",(name,phone,email))\n",
    "    conn.commit()\n",
    "    print(\"contact added successfully! \")\n",
    "    conn.close()\n",
    "#display all contacts\n",
    "def display_contacts():\n",
    "    conn=get_connection()\n",
    "    cursor=conn.cursor()\n",
    "    cursor.execute(\"select name,phone,email FROM contacts\")\n",
    "    for row in cursor.fetchall():\n",
    "        print(f\"Name: {row[0]},phone: {row[1]},Email:{row[2]}\")\n",
    "    conn.close()\n",
    "#search contacts\n",
    "def search_contact():\n",
    "    name=input(\"Enter name to search: \")\n",
    "    conn=get_connection()\n",
    "    cursor=conn.cursor()\n",
    "    cursor.execute(\"SELECT*FROM contacts WHERE name =%s\",(name,))\n",
    "    contact=cursor.tetchone()\n",
    "    if contact:\n",
    "        print(f\"Name: {contact[0]}, phone:{contact[1]},Email:{contact[2]}\")\n",
    "    else:\n",
    "        print(\"contact not found\")\n",
    "    conn.close()\n",
    "#delete contact\n",
    "def delete_contact():\n",
    "    name=input(\"Enter name to delete: \")\n",
    "    conn=get_connection()\n",
    "    cursor=conn.cursor()\n",
    "    cursor.execute(\"DELETE FROM contact WHERE name =%s\",(name,))\n",
    "    conn.commit()\n",
    "    print(\"Contact deleted successfully! \")\n",
    "    conn.close()\n",
    "#main menu\n",
    "def main():\n",
    "    while True:\n",
    "        print(\"\\n1.add contact\\n2.display contact\\n3.search contact\\n4.delete\\n5.exist\")\n",
    "        choice=input(\"Enter choice: \")\n",
    "        if choice=='1':\n",
    "            add_contact()\n",
    "        elif choice =='2':\n",
    "            display_contacts()\n",
    "        elif choice=='3':\n",
    "            search_contact()\n",
    "        elif choice =='4':\n",
    "            delete_contact()\n",
    "        elif choice=='5':\n",
    "            print(\"Goodbye!\")\n",
    "            break\n",
    "        else:\n",
    "            print(\"Invalid choice ,try again.\")\n",
    "main()\n",
    "        "
   ]
  },
  {
   "cell_type": "code",
   "execution_count": null,
   "id": "357e4a85-8d6c-4c85-bd4d-06c90904c0fd",
   "metadata": {},
   "outputs": [],
   "source": []
  }
 ],
 "metadata": {
  "kernelspec": {
   "display_name": "Python 3 (ipykernel)",
   "language": "python",
   "name": "python3"
  },
  "language_info": {
   "codemirror_mode": {
    "name": "ipython",
    "version": 3
   },
   "file_extension": ".py",
   "mimetype": "text/x-python",
   "name": "python",
   "nbconvert_exporter": "python",
   "pygments_lexer": "ipython3",
   "version": "3.12.7"
  }
 },
 "nbformat": 4,
 "nbformat_minor": 5
}
